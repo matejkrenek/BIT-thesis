{
 "cells": [
  {
   "cell_type": "code",
   "execution_count": 1,
   "id": "ecaca07d",
   "metadata": {},
   "outputs": [],
   "source": [
    "import numpy as np"
   ]
  },
  {
   "cell_type": "code",
   "execution_count": 2,
   "id": "801ddc33",
   "metadata": {},
   "outputs": [],
   "source": [
    "# Sigmoid aktivace\n",
    "def sigmoid(z):\n",
    "    return 1 / (1 + np.exp(-z))\n",
    "\n",
    "# Binární cross-entropy loss\n",
    "def binary_cross_entropy(y, y_hat):\n",
    "    return -(y * np.log(y_hat + 1e-8) + (1 - y) * np.log(1 - y_hat + 1e-8))"
   ]
  },
  {
   "cell_type": "code",
   "execution_count": 3,
   "id": "e996ba3e",
   "metadata": {},
   "outputs": [],
   "source": [
    "# Data (jeden bod)\n",
    "x = np.array([1.0, 0.0])   # vstupy\n",
    "y = 1                      # správný výstup (label)\n",
    "\n",
    "# Váhy a bias\n",
    "w = np.array([0.5, -0.5])  # start\n",
    "b = 0.0\n",
    "eta = 0.1                  # learning rate"
   ]
  },
  {
   "cell_type": "code",
   "execution_count": 4,
   "id": "8a97f4be",
   "metadata": {},
   "outputs": [
    {
     "name": "stdout",
     "output_type": "stream",
     "text": [
      "=== Forward pass (před tréninkem) ===\n",
      "z = 0.500\n",
      "y_hat = 0.622\n",
      "Loss = 0.474\n"
     ]
    }
   ],
   "source": [
    "print(\"=== Forward pass (před tréninkem) ===\")\n",
    "z = np.dot(x, w) + b\n",
    "y_hat = sigmoid(z)\n",
    "loss = binary_cross_entropy(y, y_hat)\n",
    "print(f\"z = {z:.3f}\")\n",
    "print(f\"y_hat = {y_hat:.3f}\")\n",
    "print(f\"Loss = {loss:.3f}\")"
   ]
  },
  {
   "cell_type": "code",
   "execution_count": 5,
   "id": "8a823233",
   "metadata": {},
   "outputs": [
    {
     "name": "stdout",
     "output_type": "stream",
     "text": [
      "\n",
      "=== Gradienty ===\n",
      "delta = -0.378\n",
      "dW = [-0.37754067 -0.        ]\n",
      "dB = -0.378\n"
     ]
    }
   ],
   "source": [
    "# Backpropagation (gradienty)\n",
    "delta = y_hat - y   # chyba na výstupu\n",
    "dw = delta * x      # gradient podle vah\n",
    "db = delta          # gradient podle biasu\n",
    "\n",
    "print(\"\\n=== Gradienty ===\")\n",
    "print(f\"delta = {delta:.3f}\")\n",
    "print(f\"dW = {dw}\")\n",
    "print(f\"dB = {db:.3f}\")"
   ]
  },
  {
   "cell_type": "code",
   "execution_count": 6,
   "id": "aeddbcee",
   "metadata": {},
   "outputs": [
    {
     "name": "stdout",
     "output_type": "stream",
     "text": [
      "\n",
      "=== Aktualizované parametry ===\n",
      "w = [ 0.53775407 -0.5       ]\n",
      "b = 0.038\n"
     ]
    }
   ],
   "source": [
    "# Update\n",
    "w = w - eta * dw\n",
    "b = b - eta * db\n",
    "\n",
    "print(\"\\n=== Aktualizované parametry ===\")\n",
    "print(f\"w = {w}\")\n",
    "print(f\"b = {b:.3f}\")"
   ]
  },
  {
   "cell_type": "code",
   "execution_count": 7,
   "id": "0fd9917b",
   "metadata": {},
   "outputs": [
    {
     "name": "stdout",
     "output_type": "stream",
     "text": [
      "\n",
      "=== Forward pass (po updatu) ===\n",
      "z = 0.576\n",
      "y_hat = 0.640\n",
      "Loss = 0.446\n"
     ]
    }
   ],
   "source": [
    "# Nový forward pass\n",
    "z_new = np.dot(x, w) + b\n",
    "y_hat_new = sigmoid(z_new)\n",
    "loss_new = binary_cross_entropy(y, y_hat_new)\n",
    "\n",
    "print(\"\\n=== Forward pass (po updatu) ===\")\n",
    "print(f\"z = {z_new:.3f}\")\n",
    "print(f\"y_hat = {y_hat_new:.3f}\")\n",
    "print(f\"Loss = {loss_new:.3f}\")"
   ]
  }
 ],
 "metadata": {
  "kernelspec": {
   "display_name": ".venv",
   "language": "python",
   "name": "python3"
  },
  "language_info": {
   "codemirror_mode": {
    "name": "ipython",
    "version": 3
   },
   "file_extension": ".py",
   "mimetype": "text/x-python",
   "name": "python",
   "nbconvert_exporter": "python",
   "pygments_lexer": "ipython3",
   "version": "3.12.3"
  }
 },
 "nbformat": 4,
 "nbformat_minor": 5
}
