{
 "cells": [
  {
   "cell_type": "code",
   "execution_count": 3,
   "id": "46c4c7af",
   "metadata": {},
   "outputs": [],
   "source": [
    "import numpy as np"
   ]
  },
  {
   "cell_type": "code",
   "execution_count": 4,
   "id": "c26dc66e",
   "metadata": {},
   "outputs": [],
   "source": [
    "def sigmoid(z):\n",
    "    return 1 / (1 + np.exp(-z))\n",
    "\n",
    "def perceptron(x, w, b):\n",
    "    z = np.dot(x, w) + b\n",
    "    return sigmoid(z)"
   ]
  },
  {
   "cell_type": "code",
   "execution_count": null,
   "id": "cf183d30",
   "metadata": {},
   "outputs": [],
   "source": [
    "# Data: body (x1, x2)\n",
    "X = np.array([\n",
    "    [0.1, 0.3],\n",
    "    [0.4, 0.2],\n",
    "    [0.7, 0.9],\n",
    "    [0.8, 0.4],\n",
    "])\n",
    "# Labely (jen aby bylo s čím porovnat)\n",
    "y = np.array([1, 0, 1, 0])\n",
    "\n",
    "# Inicializace vah a biasu\n",
    "w = np.array([0.5, -0.4])\n",
    "b = 0.1"
   ]
  },
  {
   "cell_type": "code",
   "execution_count": null,
   "id": "a8847a7e",
   "metadata": {},
   "outputs": [
    {
     "name": "stdout",
     "output_type": "stream",
     "text": [
      "Input: [0.1 0.3], Output: 0.507\n",
      "Input: [0.4 0.2], Output: 0.555\n",
      "Input: [0.7 0.9], Output: 0.522\n",
      "Input: [0.8 0.4], Output: 0.584\n",
      "Predictions: [1 1 1 1]\n",
      "True labels: [1 0 1 0]\n"
     ]
    }
   ],
   "source": [
    "# Forward pass pro všechny body\n",
    "outputs = []\n",
    "for x in X:\n",
    "    y_hat = perceptron(x, w, b)\n",
    "    outputs.append(y_hat)\n",
    "    print(f\"Input: {x}, Output: {y_hat:.3f}\")\n",
    "\n",
    "# Prahování -> predikce 0/1\n",
    "preds = (np.array(outputs) > 0.5).astype(int)\n",
    "print(\"Predictions:\", preds)\n",
    "print(\"True labels:\", y)"
   ]
  }
 ],
 "metadata": {
  "kernelspec": {
   "display_name": ".venv",
   "language": "python",
   "name": "python3"
  },
  "language_info": {
   "codemirror_mode": {
    "name": "ipython",
    "version": 3
   },
   "file_extension": ".py",
   "mimetype": "text/x-python",
   "name": "python",
   "nbconvert_exporter": "python",
   "pygments_lexer": "ipython3",
   "version": "3.12.3"
  }
 },
 "nbformat": 4,
 "nbformat_minor": 5
}
